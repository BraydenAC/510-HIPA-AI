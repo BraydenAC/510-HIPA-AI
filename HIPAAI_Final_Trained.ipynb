{
  "nbformat": 4,
  "nbformat_minor": 0,
  "metadata": {
    "colab": {
      "provenance": [],
      "authorship_tag": "ABX9TyMLfiNqrVrp6muSG+q04m/r",
      "include_colab_link": true
    },
    "kernelspec": {
      "name": "python3",
      "display_name": "Python 3"
    },
    "language_info": {
      "name": "python"
    }
  },
  "cells": [
    {
      "cell_type": "markdown",
      "metadata": {
        "id": "view-in-github",
        "colab_type": "text"
      },
      "source": [
        "<a href=\"https://colab.research.google.com/github/BraydenAC/510-HIPA-AI/blob/main/HIPAAI_Final_Trained.ipynb\" target=\"_parent\"><img src=\"https://colab.research.google.com/assets/colab-badge.svg\" alt=\"Open In Colab\"/></a>"
      ]
    },
    {
      "cell_type": "code",
      "execution_count": 1,
      "metadata": {
        "id": "F9lSe8CTFHMD"
      },
      "outputs": [],
      "source": [
        "import torch\n",
        "from transformers import AutoTokenizer, AutoModel\n",
        "from sklearn.linear_model import LogisticRegression\n",
        "\n",
        "\n",
        "class Model:\n",
        "    def __init__(self):\n",
        "        # Initialize pre-trained BERT\n",
        "        self.model_name = 'bert-base-uncased'\n",
        "        self.tokenizer = AutoTokenizer.from_pretrained(self.model_name)\n",
        "        self.model = AutoModel.from_pretrained(self.model_name)\n",
        "        self.model.eval()\n",
        "        self.clf = LogisticRegression(max_iter=1000)\n",
        "\n",
        "    def fit(self, X, y):\n",
        "        # Tokenize and encode the text inputs\n",
        "        inputs = self.tokenizer(X, padding=True, truncation=True, max_length=128, return_tensors='pt')\n",
        "        with torch.no_grad():\n",
        "            outputs = self.model(**inputs)\n",
        "        embeddings = outputs.last_hidden_state[:, 0, :].numpy()\n",
        "\n",
        "        # Train the logistic regression model on the transformed data\n",
        "        self.clf.fit(embeddings, y)\n",
        "\n",
        "    def predict(self, X):\n",
        "        # Transform the new text data using the trained BERT model\n",
        "        inputs = self.tokenizer(X, padding=True, truncation=True, max_length=128, return_tensors='pt')\n",
        "        with torch.no_grad():\n",
        "            outputs = self.model(**inputs)\n",
        "        embeddings = outputs.last_hidden_state[:, 0, :].numpy()\n",
        "\n",
        "        # Predict labels\n",
        "        return self.clf.predict(embeddings)"
      ]
    }
  ]
}